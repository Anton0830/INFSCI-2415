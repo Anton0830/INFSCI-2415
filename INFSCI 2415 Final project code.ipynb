{
 "cells": [
  {
   "cell_type": "code",
   "execution_count": 1,
   "id": "3f36ce13",
   "metadata": {},
   "outputs": [
    {
     "data": {
      "text/plain": [
       "'1.9.1'"
      ]
     },
     "execution_count": 1,
     "metadata": {},
     "output_type": "execute_result"
    }
   ],
   "source": [
    "import pyecharts\n",
    "pyecharts.__version__ # please use pyecharts 1.9.1 to run these codes\""
   ]
  },
  {
   "cell_type": "code",
   "execution_count": 2,
   "id": "97f8de7c",
   "metadata": {},
   "outputs": [],
   "source": [
    "import os\n",
    "import pandas as pd\n",
    "import ssl\n",
    "\n",
    "from pyecharts.charts import Geo\n",
    "from pyecharts.datasets import register_url\n",
    "from pyecharts import options as opts\n",
    "from pyecharts.globals import ChartType"
   ]
  },
  {
   "cell_type": "code",
   "execution_count": 3,
   "id": "71487b1b",
   "metadata": {},
   "outputs": [
    {
     "data": {
      "text/html": [
       "<div>\n",
       "<style scoped>\n",
       "    .dataframe tbody tr th:only-of-type {\n",
       "        vertical-align: middle;\n",
       "    }\n",
       "\n",
       "    .dataframe tbody tr th {\n",
       "        vertical-align: top;\n",
       "    }\n",
       "\n",
       "    .dataframe thead th {\n",
       "        text-align: right;\n",
       "    }\n",
       "</style>\n",
       "<table border=\"1\" class=\"dataframe\">\n",
       "  <thead>\n",
       "    <tr style=\"text-align: right;\">\n",
       "      <th></th>\n",
       "      <th>Profit</th>\n",
       "    </tr>\n",
       "    <tr>\n",
       "      <th>State</th>\n",
       "      <th></th>\n",
       "    </tr>\n",
       "  </thead>\n",
       "  <tbody>\n",
       "    <tr>\n",
       "      <th>Alabama</th>\n",
       "      <td>5786.8253</td>\n",
       "    </tr>\n",
       "    <tr>\n",
       "      <th>Arizona</th>\n",
       "      <td>-3427.9246</td>\n",
       "    </tr>\n",
       "    <tr>\n",
       "      <th>Arkansas</th>\n",
       "      <td>4008.6871</td>\n",
       "    </tr>\n",
       "    <tr>\n",
       "      <th>California</th>\n",
       "      <td>76381.3871</td>\n",
       "    </tr>\n",
       "    <tr>\n",
       "      <th>Colorado</th>\n",
       "      <td>-6527.8579</td>\n",
       "    </tr>\n",
       "  </tbody>\n",
       "</table>\n",
       "</div>"
      ],
      "text/plain": [
       "                Profit\n",
       "State                 \n",
       "Alabama      5786.8253\n",
       "Arizona     -3427.9246\n",
       "Arkansas     4008.6871\n",
       "California  76381.3871\n",
       "Colorado    -6527.8579"
      ]
     },
     "execution_count": 3,
     "metadata": {},
     "output_type": "execute_result"
    }
   ],
   "source": [
    "# prepare data\n",
    "data = pd.read_excel('./Sample - Superstore.xls', sheet_name='Orders')\n",
    "values = data.iloc[:,[10, -1]]\n",
    "sum_profit = values.groupby('State').sum()\n",
    "# states = list(sorted(values.State.unique()))\n",
    "sum_profit.head()"
   ]
  },
  {
   "cell_type": "code",
   "execution_count": 14,
   "id": "2008a21d",
   "metadata": {},
   "outputs": [],
   "source": [
    "def draw_map(state, profits):\n",
    "    \n",
    "    # get map info js files\n",
    "    try:\n",
    "        register_url(\"https://echarts-maps.github.io/echarts-countries-js/\")\n",
    "    except Exception:\n",
    "        ssl._create_default_https_context = ssl._create_unverified_context\n",
    "        register_url(\"https://echarts-maps.github.io/echarts-countries-js/\")\n",
    "    \n",
    "    profit_list = list(map(int, list(sum_profit['Profit'])))\n",
    "    max_profit = max(profit_list)\n",
    "    min_profit = min(profit_list)\n",
    "    geo_data = [[states[i], profit_list[i]] for i in range(len(states))]\n",
    "    \n",
    "    # add coordinates\n",
    "    geo = (                                                       \n",
    "        Geo(is_ignore_nonexistent_coord=True,\n",
    "            init_opts=opts.InitOpts(width = \"1600px\", height = \"700px\", bg_color = '#EEEEE8'))\n",
    "        .add_schema(maptype=\"美国\", itemstyle_opts=opts.ItemStyleOpts(color=\"#323c48\"))\n",
    "        .add_coordinate('Washington',-120.04,47.56)\n",
    "        .add_coordinate('Oregon',-120.37,43.77)\n",
    "        .add_coordinate('California',-120.44,36.44)\n",
    "        .add_coordinate('Alaska',-122.00,28.46)\n",
    "        .add_coordinate('Idaho',-114.08,43.80)\n",
    "        .add_coordinate('Nevada',-116.44,39.61)\n",
    "        .add_coordinate('Montana',-109.42,47.13)\n",
    "        .add_coordinate('Wyoming',-107.29,42.96)\n",
    "        .add_coordinate('Utah',-111.19,39.35)\n",
    "        .add_coordinate('Arizona',-111.70,34.45)\n",
    "        .add_coordinate('Hawaii',-105.25,28.72)\n",
    "        .add_coordinate('Colorado',-105.52,38.89)\n",
    "        .add_coordinate('New Mexico',-106.11,34.45)\n",
    "        .add_coordinate('North Dakota',-100.22,47.53)\n",
    "        .add_coordinate('South Dakota',-100.52,44.72)\n",
    "        .add_coordinate('Nebraska',-99.64,41.65)\n",
    "        .add_coordinate('Kansas',-98.53,38.43)\n",
    "        .add_coordinate('Oklahoma',-97.13,35.42)\n",
    "        .add_coordinate('Texas',-98.16,31.03)\n",
    "        .add_coordinate('Minnesota',-94.26,46.02)\n",
    "        .add_coordinate('Iowa',-93.60,42.09)\n",
    "        .add_coordinate('Missouri',-92.57,38.48)\n",
    "        .add_coordinate('Arkansas',-92.43,34.69)\n",
    "        .add_coordinate('Louisiana',-92.49,31.22)\n",
    "        .add_coordinate('Wisconsin',-89.55,44.25)\n",
    "        .add_coordinate('Michigan',-84.62,43.98)\n",
    "        .add_coordinate('Illinois',-89.11,40.20)\n",
    "        .add_coordinate('Indiana',-86.17,40.08)\n",
    "        .add_coordinate('Ohio',-82.71,40.31)\n",
    "        .add_coordinate('Kentucky',-84.92,37.44)\n",
    "        .add_coordinate('Tennessee',-86.32,35.78)\n",
    "        .add_coordinate('Mississippi',-89.63,32.66)\n",
    "        .add_coordinate('Alabama',-86.68,32.53)\n",
    "        .add_coordinate('Florida',-81.68,28.07)\n",
    "        .add_coordinate('Georgia',-83.22,32.59)\n",
    "        .add_coordinate('South Carolina',-80.65,33.78)\n",
    "        .add_coordinate('North Carolina',-78.88,35.48)\n",
    "        .add_coordinate('Virginia',-78.24,37.48)\n",
    "        .add_coordinate('West Virginia',-80.63,38.62)\n",
    "        .add_coordinate('Pennsylvania',-77.57,40.78)\n",
    "        .add_coordinate('New York',-75.22,43.06)\n",
    "        .add_coordinate('Maryland',-76.29,39.09)\n",
    "        .add_coordinate('Delaware',-75.55,39.09)\n",
    "        .add_coordinate('New Jersey',-74.47,40.03)\n",
    "        .add_coordinate('Vermont',-72.70,44.13)\n",
    "        .add_coordinate('New Hampshire',-71.64,43.59)\n",
    "        .add_coordinate('Massachusetts',-72.09,42.33)\n",
    "        .add_coordinate('Connecticut',-72.63,41.67)\n",
    "        .add_coordinate('Rhode Island',-71.49,41.64)\n",
    "        .add_coordinate('Maine',-69.06,45.16)\n",
    "        .add(\"Profit\", geo_data, type_=ChartType.EFFECT_SCATTER)\n",
    "        .set_global_opts(\n",
    "            title_opts=opts.TitleOpts(title=\"Visualization of supermarket profits by state\",\n",
    "                                      title_textstyle_opts=opts.TextStyleOpts(font_size=24)),\n",
    "            visualmap_opts=opts.VisualMapOpts(max_=max_profit, min_=min_profit,\n",
    "                                              is_piecewise=True,\n",
    "                                              range_color=['#00BFFF','#DC143C'],\n",
    "                                              range_text=['Max profit','Min profit']),\n",
    "        )\n",
    "        .render()\n",
    "    )"
   ]
  },
  {
   "cell_type": "code",
   "execution_count": 15,
   "id": "0610d08c",
   "metadata": {},
   "outputs": [],
   "source": [
    "draw_map(states, sum_profit) # open ./render.html to view the chart"
   ]
  }
 ],
 "metadata": {
  "kernelspec": {
   "display_name": "Python 3 (ipykernel)",
   "language": "python",
   "name": "python3"
  },
  "language_info": {
   "codemirror_mode": {
    "name": "ipython",
    "version": 3
   },
   "file_extension": ".py",
   "mimetype": "text/x-python",
   "name": "python",
   "nbconvert_exporter": "python",
   "pygments_lexer": "ipython3",
   "version": "3.8.8"
  }
 },
 "nbformat": 4,
 "nbformat_minor": 5
}
